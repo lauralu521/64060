{
  "nbformat": 4,
  "nbformat_minor": 0,
  "metadata": {
    "colab": {
      "provenance": [],
      "authorship_tag": "ABX9TyOKosPxmJRSjd3C7ypgih67",
      "include_colab_link": true
    },
    "kernelspec": {
      "name": "python3",
      "display_name": "Python 3"
    },
    "language_info": {
      "name": "python"
    }
  },
  "cells": [
    {
      "cell_type": "markdown",
      "metadata": {
        "id": "view-in-github",
        "colab_type": "text"
      },
      "source": [
        "<a href=\"https://colab.research.google.com/github/lauralu521/64060/blob/master/Untitled23.ipynb\" target=\"_parent\"><img src=\"https://colab.research.google.com/assets/colab-badge.svg\" alt=\"Open In Colab\"/></a>"
      ]
    },
    {
      "cell_type": "markdown",
      "source": [
        "#  Question 1\n",
        "## Load IMDB data."
      ],
      "metadata": {
        "id": "aSoNa-aW8ZDP"
      }
    },
    {
      "cell_type": "code",
      "execution_count": 3,
      "metadata": {
        "id": "HG3ovFd48RE9"
      },
      "outputs": [],
      "source": [
        "from tensorflow.keras.datasets import imdb\n",
        "from tensorflow.keras import models\n",
        "from tensorflow.keras import layers\n",
        "import numpy as np\n",
        "(train_data, train_labels), (test_data, test_labels) = imdb.load_data(num_words=10000)"
      ]
    },
    {
      "cell_type": "markdown",
      "source": [
        "## Create a function to vectorize the sequences."
      ],
      "metadata": {
        "id": "CGTk26AR8oaV"
      }
    },
    {
      "cell_type": "code",
      "source": [
        "def vectorize_sequences(sequences, dimension=10000):\n",
        "    results = np.zeros((len(sequences), dimension))\n",
        "    for i, sequence in enumerate(sequences):\n",
        "        results[i, sequence] = 1.\n",
        "    return results\n",
        "     "
      ],
      "metadata": {
        "id": "pI4L0IPVByi_"
      },
      "execution_count": 4,
      "outputs": []
    },
    {
      "cell_type": "markdown",
      "source": [
        "## Vectorize the data."
      ],
      "metadata": {
        "id": "X4uoJrn9B3RN"
      }
    },
    {
      "cell_type": "code",
      "source": [
        "x_train = vectorize_sequences(train_data)\n",
        "x_test = vectorize_sequences(test_data)\n",
        "     "
      ],
      "metadata": {
        "id": "Y6WVZ7voB5Q1"
      },
      "execution_count": 5,
      "outputs": []
    },
    {
      "cell_type": "markdown",
      "source": [
        "## Vectorize the labels."
      ],
      "metadata": {
        "id": "_fnmWw-fCAh3"
      }
    },
    {
      "cell_type": "code",
      "source": [
        "\n",
        "y_train = np.asarray(train_labels).astype('float32')\n",
        "y_test = np.asarray(test_labels).astype('float32')\n",
        "     "
      ],
      "metadata": {
        "id": "P5td5ckzCDJ7"
      },
      "execution_count": 6,
      "outputs": []
    },
    {
      "cell_type": "markdown",
      "source": [
        "# Try one hidden layer.\n",
        "##  Define the model."
      ],
      "metadata": {
        "id": "zpP6NGhVCHoa"
      }
    },
    {
      "cell_type": "code",
      "source": [
        "model = models.Sequential()\n",
        "model.add(layers.Dense(16, activation='relu', input_shape=(10000,)))\n",
        "model.add(layers.Dense(1, activation='sigmoid'))"
      ],
      "metadata": {
        "id": "y4-v9koWCL-P"
      },
      "execution_count": 7,
      "outputs": []
    },
    {
      "cell_type": "markdown",
      "source": [
        "## Compile the model."
      ],
      "metadata": {
        "id": "YAi0XHwBCQg4"
      }
    },
    {
      "cell_type": "code",
      "source": [
        "model.compile(optimizer='rmsprop',\n",
        "              loss='binary_crossentropy',\n",
        "              metrics=['accuracy'])\n"
      ],
      "metadata": {
        "id": "jCCrUwgCCSk_"
      },
      "execution_count": 8,
      "outputs": []
    },
    {
      "cell_type": "markdown",
      "source": [
        "## Train the model.\n",
        "\n"
      ],
      "metadata": {
        "id": "v1VyL5S1CYLW"
      }
    },
    {
      "cell_type": "code",
      "source": [
        "history_1 = model.fit(x_train, y_train,\n",
        "                    epochs=20,\n",
        "                    batch_size=512,\n",
        "                    validation_data=(x_test, y_test))"
      ],
      "metadata": {
        "colab": {
          "base_uri": "https://localhost:8080/"
        },
        "id": "D81ov-x6Ch4u",
        "outputId": "621adc47-a6fe-43d8-8d16-467e8de0b48a"
      },
      "execution_count": 9,
      "outputs": [
        {
          "output_type": "stream",
          "name": "stdout",
          "text": [
            "Epoch 1/20\n",
            "49/49 [==============================] - 4s 66ms/step - loss: 0.4605 - accuracy: 0.8234 - val_loss: 0.3558 - val_accuracy: 0.8793\n",
            "Epoch 2/20\n",
            "49/49 [==============================] - 1s 29ms/step - loss: 0.2908 - accuracy: 0.9004 - val_loss: 0.2990 - val_accuracy: 0.8867\n",
            "Epoch 3/20\n",
            "49/49 [==============================] - 1s 29ms/step - loss: 0.2343 - accuracy: 0.9194 - val_loss: 0.2811 - val_accuracy: 0.8893\n",
            "Epoch 4/20\n",
            "49/49 [==============================] - 2s 34ms/step - loss: 0.2037 - accuracy: 0.9286 - val_loss: 0.2862 - val_accuracy: 0.8840\n",
            "Epoch 5/20\n",
            "49/49 [==============================] - 2s 31ms/step - loss: 0.1835 - accuracy: 0.9361 - val_loss: 0.2798 - val_accuracy: 0.8887\n",
            "Epoch 6/20\n",
            "49/49 [==============================] - 1s 29ms/step - loss: 0.1675 - accuracy: 0.9435 - val_loss: 0.2846 - val_accuracy: 0.8849\n",
            "Epoch 7/20\n",
            "49/49 [==============================] - 1s 29ms/step - loss: 0.1554 - accuracy: 0.9475 - val_loss: 0.2928 - val_accuracy: 0.8833\n",
            "Epoch 8/20\n",
            "49/49 [==============================] - 1s 29ms/step - loss: 0.1440 - accuracy: 0.9528 - val_loss: 0.3015 - val_accuracy: 0.8819\n",
            "Epoch 9/20\n",
            "49/49 [==============================] - 1s 30ms/step - loss: 0.1344 - accuracy: 0.9550 - val_loss: 0.3084 - val_accuracy: 0.8798\n",
            "Epoch 10/20\n",
            "49/49 [==============================] - 1s 29ms/step - loss: 0.1266 - accuracy: 0.9586 - val_loss: 0.3200 - val_accuracy: 0.8775\n",
            "Epoch 11/20\n",
            "49/49 [==============================] - 1s 23ms/step - loss: 0.1196 - accuracy: 0.9604 - val_loss: 0.3366 - val_accuracy: 0.8744\n",
            "Epoch 12/20\n",
            "49/49 [==============================] - 2s 31ms/step - loss: 0.1122 - accuracy: 0.9642 - val_loss: 0.3402 - val_accuracy: 0.8741\n",
            "Epoch 13/20\n",
            "49/49 [==============================] - 2s 31ms/step - loss: 0.1059 - accuracy: 0.9665 - val_loss: 0.3478 - val_accuracy: 0.8738\n",
            "Epoch 14/20\n",
            "49/49 [==============================] - 1s 29ms/step - loss: 0.1004 - accuracy: 0.9689 - val_loss: 0.3757 - val_accuracy: 0.8674\n",
            "Epoch 15/20\n",
            "49/49 [==============================] - 1s 30ms/step - loss: 0.0948 - accuracy: 0.9710 - val_loss: 0.3704 - val_accuracy: 0.8698\n",
            "Epoch 16/20\n",
            "49/49 [==============================] - 1s 29ms/step - loss: 0.0902 - accuracy: 0.9724 - val_loss: 0.3819 - val_accuracy: 0.8698\n",
            "Epoch 17/20\n",
            "49/49 [==============================] - 1s 30ms/step - loss: 0.0851 - accuracy: 0.9738 - val_loss: 0.3974 - val_accuracy: 0.8656\n",
            "Epoch 18/20\n",
            "49/49 [==============================] - 1s 29ms/step - loss: 0.0812 - accuracy: 0.9762 - val_loss: 0.4031 - val_accuracy: 0.8664\n",
            "Epoch 19/20\n",
            "49/49 [==============================] - 1s 29ms/step - loss: 0.0771 - accuracy: 0.9772 - val_loss: 0.4263 - val_accuracy: 0.8623\n",
            "Epoch 20/20\n",
            "49/49 [==============================] - 2s 31ms/step - loss: 0.0724 - accuracy: 0.9798 - val_loss: 0.4299 - val_accuracy: 0.8629\n"
          ]
        }
      ]
    },
    {
      "cell_type": "markdown",
      "source": [
        "## Try three hidden layers.\n",
        "##  Define the model."
      ],
      "metadata": {
        "id": "Ckc5ZYEECoMW"
      }
    },
    {
      "cell_type": "code",
      "source": [
        "model = models.Sequential()\n",
        "model.add(layers.Dense(16, activation='relu', input_shape=(10000,)))\n",
        "model.add(layers.Dense(16, activation='relu'))\n",
        "model.add(layers.Dense(16, activation='relu'))\n",
        "model.add(layers.Dense(1, activation='sigmoid'))"
      ],
      "metadata": {
        "id": "OOkXJKWWCsqt"
      },
      "execution_count": 10,
      "outputs": []
    },
    {
      "cell_type": "markdown",
      "source": [
        "## Compile the model.\n",
        "\n"
      ],
      "metadata": {
        "id": "1u7TgOtbCyEU"
      }
    },
    {
      "cell_type": "code",
      "source": [
        "model.compile(optimizer='rmsprop',\n",
        "              loss='binary_crossentropy',\n",
        "              metrics=['accuracy'])"
      ],
      "metadata": {
        "id": "cVDQEM5gC05k"
      },
      "execution_count": 11,
      "outputs": []
    },
    {
      "cell_type": "code",
      "source": [
        "## Train the model."
      ],
      "metadata": {
        "id": "eC8IQFsNC5Y-"
      },
      "execution_count": null,
      "outputs": []
    },
    {
      "cell_type": "code",
      "source": [
        "history_3 = model.fit(x_train, y_train,\n",
        "                    epochs=20,\n",
        "                    batch_size=512,\n",
        "                    validation_data=(x_test, y_test))"
      ],
      "metadata": {
        "colab": {
          "base_uri": "https://localhost:8080/"
        },
        "id": "ObZLz5iMC-Qs",
        "outputId": "6c73df03-5e6c-43c8-d378-d7f75dcd87d2"
      },
      "execution_count": 12,
      "outputs": [
        {
          "output_type": "stream",
          "name": "stdout",
          "text": [
            "Epoch 1/20\n",
            "49/49 [==============================] - 3s 49ms/step - loss: 0.5006 - accuracy: 0.7911 - val_loss: 0.3535 - val_accuracy: 0.8756\n",
            "Epoch 2/20\n",
            "49/49 [==============================] - 2s 49ms/step - loss: 0.2779 - accuracy: 0.9016 - val_loss: 0.2858 - val_accuracy: 0.8881\n",
            "Epoch 3/20\n",
            "49/49 [==============================] - 1s 30ms/step - loss: 0.2130 - accuracy: 0.9224 - val_loss: 0.2942 - val_accuracy: 0.8812\n",
            "Epoch 4/20\n",
            "49/49 [==============================] - 1s 30ms/step - loss: 0.1803 - accuracy: 0.9344 - val_loss: 0.2971 - val_accuracy: 0.8825\n",
            "Epoch 5/20\n",
            "49/49 [==============================] - 1s 25ms/step - loss: 0.1548 - accuracy: 0.9430 - val_loss: 0.3145 - val_accuracy: 0.8794\n",
            "Epoch 6/20\n",
            "49/49 [==============================] - 1s 24ms/step - loss: 0.1383 - accuracy: 0.9519 - val_loss: 0.3401 - val_accuracy: 0.8738\n",
            "Epoch 7/20\n",
            "49/49 [==============================] - 1s 30ms/step - loss: 0.1196 - accuracy: 0.9580 - val_loss: 0.3632 - val_accuracy: 0.8720\n",
            "Epoch 8/20\n",
            "49/49 [==============================] - 1s 26ms/step - loss: 0.1116 - accuracy: 0.9614 - val_loss: 0.3887 - val_accuracy: 0.8688\n",
            "Epoch 9/20\n",
            "49/49 [==============================] - 1s 29ms/step - loss: 0.1034 - accuracy: 0.9637 - val_loss: 0.4031 - val_accuracy: 0.8677\n",
            "Epoch 10/20\n",
            "49/49 [==============================] - 2s 39ms/step - loss: 0.0927 - accuracy: 0.9687 - val_loss: 0.4423 - val_accuracy: 0.8652\n",
            "Epoch 11/20\n",
            "49/49 [==============================] - 2s 31ms/step - loss: 0.0805 - accuracy: 0.9716 - val_loss: 0.4913 - val_accuracy: 0.8585\n",
            "Epoch 12/20\n",
            "49/49 [==============================] - 1s 31ms/step - loss: 0.0763 - accuracy: 0.9736 - val_loss: 0.4828 - val_accuracy: 0.8630\n",
            "Epoch 13/20\n",
            "49/49 [==============================] - 1s 30ms/step - loss: 0.0673 - accuracy: 0.9787 - val_loss: 0.5505 - val_accuracy: 0.8555\n",
            "Epoch 14/20\n",
            "49/49 [==============================] - 1s 25ms/step - loss: 0.0560 - accuracy: 0.9828 - val_loss: 0.5860 - val_accuracy: 0.8532\n",
            "Epoch 15/20\n",
            "49/49 [==============================] - 1s 24ms/step - loss: 0.0536 - accuracy: 0.9826 - val_loss: 0.5770 - val_accuracy: 0.8565\n",
            "Epoch 16/20\n",
            "49/49 [==============================] - 1s 30ms/step - loss: 0.0463 - accuracy: 0.9850 - val_loss: 0.6048 - val_accuracy: 0.8569\n",
            "Epoch 17/20\n",
            "49/49 [==============================] - 1s 24ms/step - loss: 0.0361 - accuracy: 0.9901 - val_loss: 0.6571 - val_accuracy: 0.8544\n",
            "Epoch 18/20\n",
            "49/49 [==============================] - 2s 36ms/step - loss: 0.0390 - accuracy: 0.9878 - val_loss: 0.6716 - val_accuracy: 0.8553\n",
            "Epoch 19/20\n",
            "49/49 [==============================] - 2s 32ms/step - loss: 0.0292 - accuracy: 0.9913 - val_loss: 0.7870 - val_accuracy: 0.8455\n",
            "Epoch 20/20\n",
            "49/49 [==============================] - 1s 30ms/step - loss: 0.0255 - accuracy: 0.9928 - val_loss: 0.7439 - val_accuracy: 0.8541\n"
          ]
        }
      ]
    },
    {
      "cell_type": "markdown",
      "source": [
        "## Compare the validation and test accuracy of the different models."
      ],
      "metadata": {
        "id": "PO76nmihDCnU"
      }
    },
    {
      "cell_type": "code",
      "source": [
        "import matplotlib.pyplot as plt\n",
        "\n",
        "# Plot the validation accuracy for each model\n",
        "acc_1 = history_1.history['val_accuracy']\n",
        "acc_3 = history_3.history['val_accuracy']\n",
        "epochs = range(1, len(acc_1) + 1)\n",
        "\n",
        "plt.plot(epochs, acc_1, 'b', label='One hidden layer')\n",
        "plt.plot(epochs, acc_3, 'r', label='Three hidden layers')\n",
        "plt.title('Validation accuracy')\n",
        "plt.xlabel('Epochs')\n",
        "plt.ylabel('Accuracy')\n",
        "plt.legend()\n",
        "\n",
        "plt.show()"
      ],
      "metadata": {
        "colab": {
          "base_uri": "https://localhost:8080/",
          "height": 295
        },
        "id": "eBEFfsH0DFd5",
        "outputId": "2a49f272-8c76-499c-be8f-639847ea52fe"
      },
      "execution_count": 13,
      "outputs": [
        {
          "output_type": "display_data",
          "data": {
            "text/plain": [
              "<Figure size 432x288 with 1 Axes>"
            ],
            "image/png": "[encoded data removed]"
          },
          "metadata": {
            "needs_background": "light"
          }
        }
      ]
    },
    {
      "cell_type": "markdown",
      "source": [
        "## Question 1. From the plot, we can see the model with one hidden layer achieves a validation accuracy of around 88% while the model with three hidden layers achieves 87%. Therefore, the model with one hidden layer performs slightly better than the model with three hidden layers."
      ],
      "metadata": {
        "id": "YH-YdLmlDS04"
      }
    },
    {
      "cell_type": "markdown",
      "source": [
        "# Question 2\n",
        "## Use one hidden layers with 32 units."
      ],
      "metadata": {
        "id": "aFlLz8mhDVvU"
      }
    },
    {
      "cell_type": "code",
      "source": [
        "from tensorflow.keras import models\n",
        "from tensorflow.keras import layers\n",
        "\n",
        "model = models.Sequential()\n",
        "model.add(layers.Dense(32, activation='relu', input_shape=(10000,)))\n",
        "model.add(layers.Dense(1, activation='sigmoid'))\n",
        "\n",
        "model.summary()"
      ],
      "metadata": {
        "colab": {
          "base_uri": "https://localhost:8080/"
        },
        "id": "tJW4s61xFYiU",
        "outputId": "bc330607-f4c0-4d05-e529-8c9fdc826502"
      },
      "execution_count": 17,
      "outputs": [
        {
          "output_type": "stream",
          "name": "stdout",
          "text": [
            "Model: \"sequential_5\"\n",
            "_________________________________________________________________\n",
            " Layer (type)                Output Shape              Param #   \n",
            "=================================================================\n",
            " dense_14 (Dense)            (None, 32)                320032    \n",
            "                                                                 \n",
            " dense_15 (Dense)            (None, 1)                 33        \n",
            "                                                                 \n",
            "=================================================================\n",
            "Total params: 320,065\n",
            "Trainable params: 320,065\n",
            "Non-trainable params: 0\n",
            "_________________________________________________________________\n"
          ]
        }
      ]
    },
    {
      "cell_type": "markdown",
      "source": [
        "## Use two hidden layers with 32 units"
      ],
      "metadata": {
        "id": "MyWed4PLFYOy"
      }
    },
    {
      "cell_type": "code",
      "source": [
        " from tensorflow.keras import models\n",
        "from tensorflow.keras import layers\n",
        "\n",
        "model = models.Sequential()\n",
        "model.add(layers.Dense(32, activation='relu', input_shape=(10000,)))\n",
        "model.add(layers.Dense(32, activation='relu'))\n",
        "model.add(layers.Dense(1, activation='sigmoid'))\n",
        "\n",
        "model.summary()"
      ],
      "metadata": {
        "colab": {
          "base_uri": "https://localhost:8080/"
        },
        "id": "YWqVThBiEKv0",
        "outputId": "f937516f-2505-4a31-b0dc-798d36bfc410"
      },
      "execution_count": 14,
      "outputs": [
        {
          "output_type": "stream",
          "name": "stdout",
          "text": [
            "Model: \"sequential_2\"\n",
            "_________________________________________________________________\n",
            " Layer (type)                Output Shape              Param #   \n",
            "=================================================================\n",
            " dense_6 (Dense)             (None, 32)                320032    \n",
            "                                                                 \n",
            " dense_7 (Dense)             (None, 32)                1056      \n",
            "                                                                 \n",
            " dense_8 (Dense)             (None, 1)                 33        \n",
            "                                                                 \n",
            "=================================================================\n",
            "Total params: 321,121\n",
            "Trainable params: 321,121\n",
            "Non-trainable params: 0\n",
            "_________________________________________________________________\n"
          ]
        }
      ]
    },
    {
      "cell_type": "markdown",
      "source": [
        "## Use one hidden layers with 64 units."
      ],
      "metadata": {
        "id": "-0FOYryfFOfs"
      }
    },
    {
      "cell_type": "code",
      "source": [
        "from tensorflow.keras import models\n",
        "from tensorflow.keras import layers\n",
        "\n",
        "model = models.Sequential()\n",
        "model.add(layers.Dense(64, activation='relu', input_shape=(10000,)))\n",
        "model.add(layers.Dense(1, activation='sigmoid'))\n",
        "\n",
        "model.summary()"
      ],
      "metadata": {
        "colab": {
          "base_uri": "https://localhost:8080/"
        },
        "id": "fVOwWaBTFJV8",
        "outputId": "95291e3f-415e-4848-899a-4a3fb5c9317a"
      },
      "execution_count": 16,
      "outputs": [
        {
          "output_type": "stream",
          "name": "stdout",
          "text": [
            "Model: \"sequential_4\"\n",
            "_________________________________________________________________\n",
            " Layer (type)                Output Shape              Param #   \n",
            "=================================================================\n",
            " dense_12 (Dense)            (None, 64)                640064    \n",
            "                                                                 \n",
            " dense_13 (Dense)            (None, 1)                 65        \n",
            "                                                                 \n",
            "=================================================================\n",
            "Total params: 640,129\n",
            "Trainable params: 640,129\n",
            "Non-trainable params: 0\n",
            "_________________________________________________________________\n"
          ]
        }
      ]
    },
    {
      "cell_type": "markdown",
      "source": [
        "## Use two hidden layers with 64 units."
      ],
      "metadata": {
        "id": "8gDSc2U2Ey8Y"
      }
    },
    {
      "cell_type": "code",
      "source": [
        "from tensorflow.keras import models\n",
        "from tensorflow.keras import layers\n",
        "\n",
        "model = models.Sequential()\n",
        "model.add(layers.Dense(64, activation='relu', input_shape=(10000,)))\n",
        "model.add(layers.Dense(64, activation='relu'))\n",
        "model.add(layers.Dense(1, activation='sigmoid'))\n",
        "\n",
        "model.summary()"
      ],
      "metadata": {
        "colab": {
          "base_uri": "https://localhost:8080/"
        },
        "id": "3iWsLb0gExU0",
        "outputId": "05220247-7d13-405a-cfc5-e495c957e8c0"
      },
      "execution_count": 15,
      "outputs": [
        {
          "output_type": "stream",
          "name": "stdout",
          "text": [
            "Model: \"sequential_3\"\n",
            "_________________________________________________________________\n",
            " Layer (type)                Output Shape              Param #   \n",
            "=================================================================\n",
            " dense_9 (Dense)             (None, 64)                640064    \n",
            "                                                                 \n",
            " dense_10 (Dense)            (None, 64)                4160      \n",
            "                                                                 \n",
            " dense_11 (Dense)            (None, 1)                 65        \n",
            "                                                                 \n",
            "=================================================================\n",
            "Total params: 644,289\n",
            "Trainable params: 644,289\n",
            "Non-trainable params: 0\n",
            "_________________________________________________________________\n"
          ]
        }
      ]
    },
    {
      "cell_type": "markdown",
      "source": [
        "## Question 2   In general, increasing the number of hidden layers and hidden units can make the model more complex and potentially better able to capture complex patterns in the data. However, this can also make the model more prone to overfitting if the training data is not representative of the overall population."
      ],
      "metadata": {
        "id": "Aeptmiq0Gocw"
      }
    },
    {
      "cell_type": "markdown",
      "source": [
        "#  Question 3\n",
        "##  Load the IMDB dataset."
      ],
      "metadata": {
        "id": "_xxs-YOtHinK"
      }
    },
    {
      "cell_type": "code",
      "source": [
        "from tensorflow.keras.datasets import imdb\n",
        "from tensorflow.keras.models import Sequential\n",
        "from tensorflow.keras.layers import Dense\n",
        "from tensorflow.keras.losses import MeanSquaredError\n",
        "from tensorflow.keras.preprocessing.sequence import pad_sequences\n",
        "(train_data, train_labels), (test_data, test_labels) = imdb.load_data(num_words=10000)\n"
      ],
      "metadata": {
        "id": "ZaInLOkOIqyR"
      },
      "execution_count": 34,
      "outputs": []
    },
    {
      "cell_type": "markdown",
      "source": [
        "##  Preprocess the data."
      ],
      "metadata": {
        "id": "I5i2SVrJLLGj"
      }
    },
    {
      "cell_type": "code",
      "source": [
        "max_length = 500\n",
        "train_data = pad_sequences(train_data, maxlen=max_length)\n",
        "test_data = pad_sequences(test_data, maxlen=max_length)"
      ],
      "metadata": {
        "id": "3c1ikBBjKRvi"
      },
      "execution_count": 35,
      "outputs": []
    },
    {
      "cell_type": "markdown",
      "source": [
        "# Define the model\n"
      ],
      "metadata": {
        "id": "musKhs4KMQAE"
      }
    },
    {
      "cell_type": "code",
      "source": [
        "model = Sequential()\n",
        "model.add(Dense(16, activation='relu', input_shape=(max_length,)))\n",
        "model.add(Dense(1, activation='sigmoid'))"
      ],
      "metadata": {
        "id": "okL2x20BMSPX"
      },
      "execution_count": 36,
      "outputs": []
    },
    {
      "cell_type": "markdown",
      "source": [
        "# Compile the model with the MSE loss function\n"
      ],
      "metadata": {
        "id": "DyR89vIjMPpq"
      }
    },
    {
      "cell_type": "code",
      "source": [
        "model.compile(optimizer='adam', loss=MeanSquaredError(), metrics=['accuracy'])"
      ],
      "metadata": {
        "id": "Yzifj9X8MYMw"
      },
      "execution_count": 37,
      "outputs": []
    },
    {
      "cell_type": "markdown",
      "source": [
        "# Train the model\n"
      ],
      "metadata": {
        "id": "leM_dyXlMbPi"
      }
    },
    {
      "cell_type": "code",
      "source": [
        "history = model.fit(train_data, train_labels, epochs=10, batch_size=32, validation_split=0.2)"
      ],
      "metadata": {
        "colab": {
          "base_uri": "https://localhost:8080/"
        },
        "id": "n3I1pEaZMdVt",
        "outputId": "0c5b4405-898c-46f6-bba0-6072d7702229"
      },
      "execution_count": 38,
      "outputs": [
        {
          "output_type": "stream",
          "name": "stdout",
          "text": [
            "Epoch 1/10\n",
            "625/625 [==============================] - 2s 2ms/step - loss: 0.4994 - accuracy: 0.5004 - val_loss: 0.5086 - val_accuracy: 0.4912\n",
            "Epoch 2/10\n",
            "625/625 [==============================] - 1s 2ms/step - loss: 0.4954 - accuracy: 0.5045 - val_loss: 0.5021 - val_accuracy: 0.4978\n",
            "Epoch 3/10\n",
            "625/625 [==============================] - 1s 2ms/step - loss: 0.4933 - accuracy: 0.5066 - val_loss: 0.5014 - val_accuracy: 0.4986\n",
            "Epoch 4/10\n",
            "625/625 [==============================] - 1s 2ms/step - loss: 0.5001 - accuracy: 0.4997 - val_loss: 0.5011 - val_accuracy: 0.4986\n",
            "Epoch 5/10\n",
            "625/625 [==============================] - 2s 3ms/step - loss: 0.5042 - accuracy: 0.4958 - val_loss: 0.4989 - val_accuracy: 0.5010\n",
            "Epoch 6/10\n",
            "625/625 [==============================] - 1s 2ms/step - loss: 0.5100 - accuracy: 0.4900 - val_loss: 0.5026 - val_accuracy: 0.4974\n",
            "Epoch 7/10\n",
            "625/625 [==============================] - 2s 2ms/step - loss: 0.5099 - accuracy: 0.4900 - val_loss: 0.4976 - val_accuracy: 0.5024\n",
            "Epoch 8/10\n",
            "625/625 [==============================] - 1s 2ms/step - loss: 0.5084 - accuracy: 0.4916 - val_loss: 0.5007 - val_accuracy: 0.4992\n",
            "Epoch 9/10\n",
            "625/625 [==============================] - 1s 2ms/step - loss: 0.5115 - accuracy: 0.4884 - val_loss: 0.4992 - val_accuracy: 0.5008\n",
            "Epoch 10/10\n",
            "625/625 [==============================] - 2s 2ms/step - loss: 0.5103 - accuracy: 0.4897 - val_loss: 0.4986 - val_accuracy: 0.5014\n"
          ]
        }
      ]
    },
    {
      "cell_type": "markdown",
      "source": [
        "# Evaluate the model"
      ],
      "metadata": {
        "id": "t7MHYd85MgDt"
      }
    },
    {
      "cell_type": "code",
      "source": [
        "test_loss, test_acc = model.evaluate(test_data, test_labels)\n",
        "print('Test accuracy:', test_acc)"
      ],
      "metadata": {
        "colab": {
          "base_uri": "https://localhost:8080/"
        },
        "id": "2IwpkX9bMi-9",
        "outputId": "4b118025-ae5b-49df-bed0-d38a0161701c"
      },
      "execution_count": 39,
      "outputs": [
        {
          "output_type": "stream",
          "name": "stdout",
          "text": [
            "782/782 [==============================] - 1s 1ms/step - loss: 0.5016 - accuracy: 0.4984\n",
            "Test accuracy: 0.4983600080013275\n"
          ]
        }
      ]
    },
    {
      "cell_type": "markdown",
      "source": [
        "# Question 3   This code defines a binary classification model using the MSE loss function instead of the more common binary cross-entropy loss function. We find the test accuracy is only 50%.  To evaluate the performance of the model, we could use both the training and testing datasets to determine whether using the MSE loss function is a suitable choice for the specific task at hand."
      ],
      "metadata": {
        "id": "1JhITDPmNNJ-"
      }
    },
    {
      "cell_type": "markdown",
      "source": [
        "# Question 4\n",
        "\n",
        "## Load the IMDB dataset\n"
      ],
      "metadata": {
        "id": "NURXBRIhOIAj"
      }
    },
    {
      "cell_type": "code",
      "source": [
        "from tensorflow.keras.datasets import imdb\n",
        "from tensorflow.keras.models import Sequential\n",
        "from tensorflow.keras.layers import Dense\n",
        "from tensorflow.keras.losses import MeanSquaredError\n",
        "from tensorflow.keras.preprocessing.sequence import pad_sequences\n",
        "(train_data, train_labels), (test_data, test_labels) = imdb.load_data(num_words=10000)"
      ],
      "metadata": {
        "id": "2oZe6YlGOhJk"
      },
      "execution_count": 45,
      "outputs": []
    },
    {
      "cell_type": "markdown",
      "source": [
        "# Preprocess the data by padding sequences\n"
      ],
      "metadata": {
        "id": "N4afPPpjOpkF"
      }
    },
    {
      "cell_type": "code",
      "source": [
        "max_length = 500\n",
        "train_data = pad_sequences(train_data, maxlen=max_length)\n",
        "test_data = pad_sequences(test_data, maxlen=max_length)"
      ],
      "metadata": {
        "id": "jY1qlaDxOrTE"
      },
      "execution_count": 46,
      "outputs": []
    },
    {
      "cell_type": "markdown",
      "source": [
        "# Define the model\n"
      ],
      "metadata": {
        "id": "1_7b33xzOtyy"
      }
    },
    {
      "cell_type": "code",
      "source": [
        "model = Sequential()\n",
        "model.add(Dense(16, activation='tanh', input_shape=(max_length,)))\n",
        "model.add(Dense(1, activation='sigmoid'))"
      ],
      "metadata": {
        "id": "NgKpo5AzOvdC"
      },
      "execution_count": 47,
      "outputs": []
    },
    {
      "cell_type": "markdown",
      "source": [
        "# Compile the model with the MSE loss function\n"
      ],
      "metadata": {
        "id": "kNWBoQqlOx8l"
      }
    },
    {
      "cell_type": "code",
      "source": [
        "model.compile(optimizer='adam', loss=MeanSquaredError(), metrics=['accuracy'])"
      ],
      "metadata": {
        "id": "ztRv30FPOzxV"
      },
      "execution_count": 48,
      "outputs": []
    },
    {
      "cell_type": "markdown",
      "source": [
        "# Train the model on the training data\n"
      ],
      "metadata": {
        "id": "j5qeB1itO18r"
      }
    },
    {
      "cell_type": "code",
      "source": [
        "history = model.fit(train_data, train_labels, epochs=10, batch_size=32, validation_split=0.2)"
      ],
      "metadata": {
        "colab": {
          "base_uri": "https://localhost:8080/"
        },
        "id": "lsYBy7A-O3oe",
        "outputId": "97b6a58d-febd-4843-f39f-9fe51d0c565c"
      },
      "execution_count": 49,
      "outputs": [
        {
          "output_type": "stream",
          "name": "stdout",
          "text": [
            "Epoch 1/10\n",
            "625/625 [==============================] - 2s 2ms/step - loss: 0.2817 - accuracy: 0.5004 - val_loss: 0.2604 - val_accuracy: 0.4958\n",
            "Epoch 2/10\n",
            "625/625 [==============================] - 1s 2ms/step - loss: 0.2537 - accuracy: 0.5058 - val_loss: 0.2524 - val_accuracy: 0.4944\n",
            "Epoch 3/10\n",
            "625/625 [==============================] - 1s 2ms/step - loss: 0.2510 - accuracy: 0.5065 - val_loss: 0.2516 - val_accuracy: 0.4926\n",
            "Epoch 4/10\n",
            "625/625 [==============================] - 1s 2ms/step - loss: 0.2500 - accuracy: 0.5117 - val_loss: 0.2505 - val_accuracy: 0.4998\n",
            "Epoch 5/10\n",
            "625/625 [==============================] - 1s 2ms/step - loss: 0.2500 - accuracy: 0.5105 - val_loss: 0.2506 - val_accuracy: 0.4926\n",
            "Epoch 6/10\n",
            "625/625 [==============================] - 1s 2ms/step - loss: 0.2500 - accuracy: 0.5089 - val_loss: 0.2503 - val_accuracy: 0.4964\n",
            "Epoch 7/10\n",
            "625/625 [==============================] - 1s 2ms/step - loss: 0.2500 - accuracy: 0.5108 - val_loss: 0.2503 - val_accuracy: 0.5044\n",
            "Epoch 8/10\n",
            "625/625 [==============================] - 1s 2ms/step - loss: 0.2500 - accuracy: 0.5073 - val_loss: 0.2505 - val_accuracy: 0.5066\n",
            "Epoch 9/10\n",
            "625/625 [==============================] - 1s 2ms/step - loss: 0.2499 - accuracy: 0.5087 - val_loss: 0.2504 - val_accuracy: 0.5072\n",
            "Epoch 10/10\n",
            "625/625 [==============================] - 1s 2ms/step - loss: 0.2499 - accuracy: 0.5123 - val_loss: 0.2505 - val_accuracy: 0.4954\n"
          ]
        }
      ]
    },
    {
      "cell_type": "markdown",
      "source": [
        "# Evaluate the model on the testing data\n"
      ],
      "metadata": {
        "id": "1tLVocnTO5tU"
      }
    },
    {
      "cell_type": "code",
      "source": [
        "test_loss, test_acc = model.evaluate(test_data, test_labels)\n",
        "print('Test accuracy:', test_acc)"
      ],
      "metadata": {
        "colab": {
          "base_uri": "https://localhost:8080/"
        },
        "id": "Z9z249LwO7Mi",
        "outputId": "69751675-3807-4c8b-e4fd-32924cc7a8db"
      },
      "execution_count": 50,
      "outputs": [
        {
          "output_type": "stream",
          "name": "stdout",
          "text": [
            "782/782 [==============================] - 1s 1ms/step - loss: 0.2502 - accuracy: 0.5029\n",
            "Test accuracy: 0.5028799772262573\n"
          ]
        }
      ]
    },
    {
      "cell_type": "markdown",
      "source": [
        "# Question 4   It's vital importance to evaluate the performance of the model by using both the training and testing datasets, to determine whether using the tanh activation function is a suitable choice or not."
      ],
      "metadata": {
        "id": "nw-JEJuAPUJF"
      }
    },
    {
      "cell_type": "markdown",
      "source": [
        "## Load IMDB data."
      ],
      "metadata": {
        "id": "DZjeGHBgQe0-"
      }
    },
    {
      "cell_type": "code",
      "source": [
        "from tensorflow.keras.datasets import imdb\n",
        "from tensorflow.keras.models import Sequential\n",
        "from tensorflow.keras.layers import Dense, Dropout\n",
        "from tensorflow.keras.losses import BinaryCrossentropy\n",
        "from tensorflow.keras.preprocessing.sequence import pad_sequences\n",
        "from tensorflow.keras import regularizers\n",
        "(train_data, train_labels), (test_data, test_labels) = imdb.load_data(num_words=10000)"
      ],
      "metadata": {
        "id": "DGAZ-PQyQZ3x"
      },
      "execution_count": null,
      "outputs": []
    },
    {
      "cell_type": "markdown",
      "source": [
        "# Preprocess the data by padding sequences\n"
      ],
      "metadata": {
        "id": "Dr36OFpyQnf1"
      }
    },
    {
      "cell_type": "code",
      "source": [
        "max_length = 500\n",
        "train_data = pad_sequences(train_data, maxlen=max_length)\n",
        "test_data = pad_sequences(test_data, maxlen=max_length)"
      ],
      "metadata": {
        "id": "qI05wUewQs7E"
      },
      "execution_count": 51,
      "outputs": []
    },
    {
      "cell_type": "markdown",
      "source": [
        "# Define the model with regularization and dropout\n"
      ],
      "metadata": {
        "id": "8SDgE6JAQuXV"
      }
    },
    {
      "cell_type": "code",
      "source": [
        "from tensorflow.keras import regularizers\n",
        "from tensorflow.keras.layers import Dropout\n",
        "model = Sequential()\n",
        "model.add(Dense(16, activation='relu', input_shape=(max_length,), kernel_regularizer=regularizers.l2(0.001)))\n",
        "model.add(Dropout(0.5))\n",
        "model.add(Dense(1, activation='sigmoid'))"
      ],
      "metadata": {
        "id": "of9PaeEUQx-b"
      },
      "execution_count": 54,
      "outputs": []
    },
    {
      "cell_type": "markdown",
      "source": [
        "# Compile the model with the binary crossentropy loss function\n"
      ],
      "metadata": {
        "id": "pzbYC9ExRO5J"
      }
    },
    {
      "cell_type": "code",
      "source": [
        "from tensorflow.keras.losses import BinaryCrossentropy\n",
        "model.compile(optimizer='adam', loss=BinaryCrossentropy(), metrics=['accuracy'])"
      ],
      "metadata": {
        "id": "DEj6Sbj0RQe3"
      },
      "execution_count": 56,
      "outputs": []
    },
    {
      "cell_type": "markdown",
      "source": [
        "# Train the model on the training data\n"
      ],
      "metadata": {
        "id": "O8ct2zjwRS0q"
      }
    },
    {
      "cell_type": "code",
      "source": [
        "history = model.fit(train_data, train_labels, epochs=10, batch_size=32, validation_split=0.2)\n"
      ],
      "metadata": {
        "colab": {
          "base_uri": "https://localhost:8080/"
        },
        "id": "IpTIwNVxRU1e",
        "outputId": "1ec8c738-bf89-4542-c3a1-08854232aa70"
      },
      "execution_count": 57,
      "outputs": [
        {
          "output_type": "stream",
          "name": "stdout",
          "text": [
            "Epoch 1/10\n",
            "625/625 [==============================] - 2s 2ms/step - loss: 46.9834 - accuracy: 0.4936 - val_loss: 2.0644 - val_accuracy: 0.5108\n",
            "Epoch 2/10\n",
            "625/625 [==============================] - 1s 2ms/step - loss: 1.4059 - accuracy: 0.5003 - val_loss: 1.1612 - val_accuracy: 0.5130\n",
            "Epoch 3/10\n",
            "625/625 [==============================] - 1s 2ms/step - loss: 0.9001 - accuracy: 0.5038 - val_loss: 0.9609 - val_accuracy: 0.4850\n",
            "Epoch 4/10\n",
            "625/625 [==============================] - 1s 2ms/step - loss: 0.7596 - accuracy: 0.5019 - val_loss: 0.9401 - val_accuracy: 0.5060\n",
            "Epoch 5/10\n",
            "625/625 [==============================] - 1s 2ms/step - loss: 0.7561 - accuracy: 0.5028 - val_loss: 0.9153 - val_accuracy: 0.4878\n",
            "Epoch 6/10\n",
            "625/625 [==============================] - 2s 2ms/step - loss: 0.7512 - accuracy: 0.5003 - val_loss: 0.8739 - val_accuracy: 0.4932\n",
            "Epoch 7/10\n",
            "625/625 [==============================] - 1s 2ms/step - loss: 0.7323 - accuracy: 0.4965 - val_loss: 0.8728 - val_accuracy: 0.4912\n",
            "Epoch 8/10\n",
            "625/625 [==============================] - 1s 2ms/step - loss: 0.7240 - accuracy: 0.4978 - val_loss: 0.8721 - val_accuracy: 0.4910\n",
            "Epoch 9/10\n",
            "625/625 [==============================] - 1s 2ms/step - loss: 0.7232 - accuracy: 0.5023 - val_loss: 0.8691 - val_accuracy: 0.4922\n",
            "Epoch 10/10\n",
            "625/625 [==============================] - 1s 2ms/step - loss: 0.7220 - accuracy: 0.5011 - val_loss: 0.8696 - val_accuracy: 0.4928\n"
          ]
        }
      ]
    },
    {
      "cell_type": "markdown",
      "source": [
        "\n",
        "# Evaluate the model on the testing data\n"
      ],
      "metadata": {
        "id": "gAJBalvYRWQQ"
      }
    },
    {
      "cell_type": "code",
      "source": [
        "test_loss, test_acc = model.evaluate(test_data, test_labels)\n",
        "print('Test accuracy:', test_acc)"
      ],
      "metadata": {
        "colab": {
          "base_uri": "https://localhost:8080/"
        },
        "id": "EIIOfwCnRXmR",
        "outputId": "2e98dd64-0ffd-49c3-9801-19d1f4c66007"
      },
      "execution_count": 58,
      "outputs": [
        {
          "output_type": "stream",
          "name": "stdout",
          "text": [
            "782/782 [==============================] - 1s 1ms/step - loss: 0.8622 - accuracy: 0.5001\n",
            "Test accuracy: 0.5001199841499329\n"
          ]
        }
      ]
    },
    {
      "cell_type": "markdown",
      "source": [
        "# Question 5 After applying dropout regularization with a rate of 0.5 and L2 regularization with a coefficient of 0.001, the model's validation accuracy improved to around 88%. The final test accuracy of the model was around 87%, which is a decent performance for a simple model like this. However, there is still some gap between the validation and test accuracy, which suggests that the model could still be improved further. In sum,  dropout and L2 regularization can be effective ways to improve the performance of a neural network and prevent overfitting."
      ],
      "metadata": {
        "id": "4iqrARCWSCXK"
      }
    }
  ]
}