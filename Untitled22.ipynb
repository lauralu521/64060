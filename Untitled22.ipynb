{
  "nbformat": 4,
  "nbformat_minor": 0,
  "metadata": {
    "colab": {
      "provenance": [],
      "authorship_tag": "ABX9TyM0RmYXt0Dx4X6+y7Mh06Gz",
      "include_colab_link": true
    },
    "kernelspec": {
      "name": "python3",
      "display_name": "Python 3"
    },
    "language_info": {
      "name": "python"
    }
  },
  "cells": [
    {
      "cell_type": "markdown",
      "metadata": {
        "id": "view-in-github",
        "colab_type": "text"
      },
      "source": [
        "<a href=\"https://colab.research.google.com/github/lauralu521/64060/blob/master/Untitled22.ipynb\" target=\"_parent\"><img src=\"https://colab.research.google.com/assets/colab-badge.svg\" alt=\"Open In Colab\"/></a>"
      ]
    },
    {
      "cell_type": "markdown",
      "source": [
        "# Question 1\n",
        "## Load the IMDB dataset."
      ],
      "metadata": {
        "id": "WgI30PbMypCw"
      }
    },
    {
      "cell_type": "code",
      "execution_count": 1,
      "metadata": {
        "colab": {
          "base_uri": "https://localhost:8080/"
        },
        "id": "XkFAH7z3yIK3",
        "outputId": "02e930e0-1fb9-4b13-dac7-a882d0523c3d"
      },
      "outputs": [
        {
          "output_type": "stream",
          "name": "stdout",
          "text": [
            "Downloading data from https://storage.googleapis.com/tensorflow/tf-keras-datasets/imdb.npz\n",
            "17464789/17464789 [==============================] - 0s 0us/step\n"
          ]
        }
      ],
      "source": [
        "from tensorflow.keras.datasets import imdb\n",
        "from tensorflow.keras import models\n",
        "from tensorflow.keras import layers\n",
        "import numpy as np\n",
        "(train_data, train_labels), (test_data, test_labels) = imdb.load_data(num_words=10000)"
      ]
    },
    {
      "cell_type": "markdown",
      "source": [
        "## Create a function to vectorize the sequences.\n"
      ],
      "metadata": {
        "id": "Kzfl2uT1yzme"
      }
    },
    {
      "cell_type": "code",
      "source": [
        "def vectorize_sequences(sequences, dimension=10000):\n",
        "    results = np.zeros((len(sequences), dimension))\n",
        "    for i, sequence in enumerate(sequences):\n",
        "        results[i, sequence] = 1.\n",
        "    return results"
      ],
      "metadata": {
        "id": "z8y6bFSUy3nY"
      },
      "execution_count": 2,
      "outputs": []
    },
    {
      "cell_type": "markdown",
      "source": [
        "## Vectorize the data.\n"
      ],
      "metadata": {
        "id": "k_YiONdLy8KB"
      }
    },
    {
      "cell_type": "code",
      "source": [
        "x_train = vectorize_sequences(train_data)\n",
        "x_test = vectorize_sequences(test_data)"
      ],
      "metadata": {
        "id": "bg6QTxWgy9EV"
      },
      "execution_count": 3,
      "outputs": []
    },
    {
      "cell_type": "markdown",
      "source": [
        "## Vectorize the labels.\n"
      ],
      "metadata": {
        "id": "tzhpj8AszCtE"
      }
    },
    {
      "cell_type": "code",
      "source": [
        "y_train = np.asarray(train_labels).astype('float32')\n",
        "y_test = np.asarray(test_labels).astype('float32')"
      ],
      "metadata": {
        "id": "kyoMk1NOzFJY"
      },
      "execution_count": 4,
      "outputs": []
    },
    {
      "cell_type": "markdown",
      "source": [
        "# Try one hidden layer.\n",
        "## Define the model.\n"
      ],
      "metadata": {
        "id": "KSm2JSMJynty"
      }
    },
    {
      "cell_type": "code",
      "source": [
        "model = models.Sequential()\n",
        "model.add(layers.Dense(16, activation='relu', input_shape=(10000,)))\n",
        "model.add(layers.Dense(1, activation='sigmoid'))"
      ],
      "metadata": {
        "id": "3ihNRuQC2y_J"
      },
      "execution_count": 9,
      "outputs": []
    },
    {
      "cell_type": "markdown",
      "source": [
        "## Compile the model.\n"
      ],
      "metadata": {
        "id": "DYlb-8jS2436"
      }
    },
    {
      "cell_type": "code",
      "source": [
        "model.compile(optimizer='rmsprop',\n",
        "              loss='binary_crossentropy',\n",
        "              metrics=['accuracy'])\n",
        "\n"
      ],
      "metadata": {
        "id": "IMf5rK0v3DrV"
      },
      "execution_count": 10,
      "outputs": []
    },
    {
      "cell_type": "markdown",
      "source": [
        "## Train the model.\n"
      ],
      "metadata": {
        "id": "Mi1zQPym3HRi"
      }
    },
    {
      "cell_type": "code",
      "source": [
        "history_1 = model.fit(x_train, y_train,\n",
        "                    epochs=20,\n",
        "                    batch_size=512,\n",
        "                    validation_data=(x_test, y_test))"
      ],
      "metadata": {
        "colab": {
          "base_uri": "https://localhost:8080/"
        },
        "id": "-he_ze1N3Ix5",
        "outputId": "343feba4-be22-498b-e40b-bae4013e615f"
      },
      "execution_count": 20,
      "outputs": [
        {
          "output_type": "stream",
          "name": "stdout",
          "text": [
            "Epoch 1/20\n",
            "49/49 [==============================] - 2s 46ms/step - loss: 9.9724e-05 - accuracy: 1.0000 - val_loss: 1.6963 - val_accuracy: 0.8505\n",
            "Epoch 2/20\n",
            "49/49 [==============================] - 2s 34ms/step - loss: 8.0658e-05 - accuracy: 1.0000 - val_loss: 1.7420 - val_accuracy: 0.8493\n",
            "Epoch 3/20\n",
            "49/49 [==============================] - 1s 22ms/step - loss: 6.2741e-05 - accuracy: 1.0000 - val_loss: 1.7919 - val_accuracy: 0.8502\n",
            "Epoch 4/20\n",
            "49/49 [==============================] - 1s 21ms/step - loss: 5.2750e-05 - accuracy: 1.0000 - val_loss: 1.8271 - val_accuracy: 0.8500\n",
            "Epoch 5/20\n",
            "49/49 [==============================] - 1s 22ms/step - loss: 4.5529e-05 - accuracy: 1.0000 - val_loss: 1.8577 - val_accuracy: 0.8501\n",
            "Epoch 6/20\n",
            "49/49 [==============================] - 1s 21ms/step - loss: 4.0199e-05 - accuracy: 1.0000 - val_loss: 1.8852 - val_accuracy: 0.8500\n",
            "Epoch 7/20\n",
            "49/49 [==============================] - 1s 22ms/step - loss: 3.6006e-05 - accuracy: 1.0000 - val_loss: 1.9090 - val_accuracy: 0.8500\n",
            "Epoch 8/20\n",
            "49/49 [==============================] - 1s 21ms/step - loss: 3.2402e-05 - accuracy: 1.0000 - val_loss: 1.9322 - val_accuracy: 0.8502\n",
            "Epoch 9/20\n",
            "49/49 [==============================] - 1s 21ms/step - loss: 2.9492e-05 - accuracy: 1.0000 - val_loss: 1.9484 - val_accuracy: 0.8494\n",
            "Epoch 10/20\n",
            "49/49 [==============================] - 1s 21ms/step - loss: 2.6947e-05 - accuracy: 1.0000 - val_loss: 1.9661 - val_accuracy: 0.8495\n",
            "Epoch 11/20\n",
            "49/49 [==============================] - 1s 21ms/step - loss: 2.4678e-05 - accuracy: 1.0000 - val_loss: 1.9839 - val_accuracy: 0.8496\n",
            "Epoch 12/20\n",
            "49/49 [==============================] - 2s 31ms/step - loss: 2.2848e-05 - accuracy: 1.0000 - val_loss: 2.0011 - val_accuracy: 0.8496\n",
            "Epoch 13/20\n",
            "49/49 [==============================] - 1s 29ms/step - loss: 2.1076e-05 - accuracy: 1.0000 - val_loss: 2.0162 - val_accuracy: 0.8500\n",
            "Epoch 14/20\n",
            "49/49 [==============================] - 1s 21ms/step - loss: 1.9580e-05 - accuracy: 1.0000 - val_loss: 2.0292 - val_accuracy: 0.8496\n",
            "Epoch 15/20\n",
            "49/49 [==============================] - 1s 28ms/step - loss: 1.8193e-05 - accuracy: 1.0000 - val_loss: 2.0421 - val_accuracy: 0.8497\n",
            "Epoch 16/20\n",
            "49/49 [==============================] - 1s 22ms/step - loss: 1.6980e-05 - accuracy: 1.0000 - val_loss: 2.0552 - val_accuracy: 0.8498\n",
            "Epoch 17/20\n",
            "49/49 [==============================] - 1s 21ms/step - loss: 1.5908e-05 - accuracy: 1.0000 - val_loss: 2.0674 - val_accuracy: 0.8498\n",
            "Epoch 18/20\n",
            "49/49 [==============================] - 1s 22ms/step - loss: 1.4940e-05 - accuracy: 1.0000 - val_loss: 2.0807 - val_accuracy: 0.8502\n",
            "Epoch 19/20\n",
            "49/49 [==============================] - 1s 22ms/step - loss: 1.4043e-05 - accuracy: 1.0000 - val_loss: 2.0879 - val_accuracy: 0.8494\n",
            "Epoch 20/20\n",
            "49/49 [==============================] - 1s 21ms/step - loss: 1.3290e-05 - accuracy: 1.0000 - val_loss: 2.0992 - val_accuracy: 0.8496\n"
          ]
        }
      ]
    },
    {
      "cell_type": "markdown",
      "source": [
        "# Try three hidden layers.\n",
        "## Define the model.\n"
      ],
      "metadata": {
        "id": "xl5_0mjW3vZk"
      }
    },
    {
      "cell_type": "code",
      "source": [
        "model = models.Sequential()\n",
        "model.add(layers.Dense(16, activation='relu', input_shape=(10000,)))\n",
        "model.add(layers.Dense(16, activation='relu'))\n",
        "model.add(layers.Dense(16, activation='relu'))\n",
        "model.add(layers.Dense(1, activation='sigmoid'))"
      ],
      "metadata": {
        "id": "82STuBqf3-iF"
      },
      "execution_count": 12,
      "outputs": []
    },
    {
      "cell_type": "markdown",
      "source": [
        "## Compile the model.\n",
        "\n"
      ],
      "metadata": {
        "id": "8fMRczle4CQV"
      }
    },
    {
      "cell_type": "code",
      "source": [
        "model.compile(optimizer='rmsprop',\n",
        "              loss='binary_crossentropy',\n",
        "              metrics=['accuracy'])\n",
        "\n"
      ],
      "metadata": {
        "id": "8RFvdzQJ4ECV"
      },
      "execution_count": 13,
      "outputs": []
    },
    {
      "cell_type": "markdown",
      "source": [
        "## Train the model.\n"
      ],
      "metadata": {
        "id": "PNADFOw94GJv"
      }
    },
    {
      "cell_type": "code",
      "source": [
        "history_3 = model.fit(x_train, y_train,\n",
        "                    epochs=20,\n",
        "                    batch_size=512,\n",
        "                    validation_data=(x_test, y_test))"
      ],
      "metadata": {
        "colab": {
          "base_uri": "https://localhost:8080/"
        },
        "id": "eIm_t7MC4IRU",
        "outputId": "52e18c56-61d0-4bd7-8a89-7307d19e7573"
      },
      "execution_count": 19,
      "outputs": [
        {
          "output_type": "stream",
          "name": "stdout",
          "text": [
            "Epoch 1/20\n",
            "49/49 [==============================] - 2s 37ms/step - loss: 9.8946e-04 - accuracy: 0.9999 - val_loss: 1.2073 - val_accuracy: 0.8504\n",
            "Epoch 2/20\n",
            "49/49 [==============================] - 1s 25ms/step - loss: 0.0086 - accuracy: 0.9976 - val_loss: 1.2500 - val_accuracy: 0.8499\n",
            "Epoch 3/20\n",
            "49/49 [==============================] - 2s 35ms/step - loss: 6.9168e-04 - accuracy: 1.0000 - val_loss: 1.2774 - val_accuracy: 0.8502\n",
            "Epoch 4/20\n",
            "49/49 [==============================] - 1s 28ms/step - loss: 0.0112 - accuracy: 0.9972 - val_loss: 1.2960 - val_accuracy: 0.8509\n",
            "Epoch 5/20\n",
            "49/49 [==============================] - 1s 21ms/step - loss: 5.0723e-04 - accuracy: 1.0000 - val_loss: 1.3699 - val_accuracy: 0.8492\n",
            "Epoch 6/20\n",
            "49/49 [==============================] - 1s 21ms/step - loss: 0.0095 - accuracy: 0.9980 - val_loss: 1.3383 - val_accuracy: 0.8507\n",
            "Epoch 7/20\n",
            "49/49 [==============================] - 1s 22ms/step - loss: 0.0089 - accuracy: 0.9978 - val_loss: 1.4098 - val_accuracy: 0.8510\n",
            "Epoch 8/20\n",
            "49/49 [==============================] - 1s 28ms/step - loss: 4.4006e-04 - accuracy: 1.0000 - val_loss: 1.3913 - val_accuracy: 0.8497\n",
            "Epoch 9/20\n",
            "49/49 [==============================] - 1s 21ms/step - loss: 2.9019e-04 - accuracy: 1.0000 - val_loss: 1.4655 - val_accuracy: 0.8443\n",
            "Epoch 10/20\n",
            "49/49 [==============================] - 1s 28ms/step - loss: 0.0146 - accuracy: 0.9967 - val_loss: 1.4424 - val_accuracy: 0.8505\n",
            "Epoch 11/20\n",
            "49/49 [==============================] - 1s 22ms/step - loss: 2.3710e-04 - accuracy: 1.0000 - val_loss: 1.4769 - val_accuracy: 0.8494\n",
            "Epoch 12/20\n",
            "49/49 [==============================] - 1s 29ms/step - loss: 0.0069 - accuracy: 0.9976 - val_loss: 1.5038 - val_accuracy: 0.8503\n",
            "Epoch 13/20\n",
            "49/49 [==============================] - 1s 27ms/step - loss: 1.9885e-04 - accuracy: 1.0000 - val_loss: 1.5177 - val_accuracy: 0.8504\n",
            "Epoch 14/20\n",
            "49/49 [==============================] - 1s 22ms/step - loss: 0.0123 - accuracy: 0.9977 - val_loss: 1.5446 - val_accuracy: 0.8505\n",
            "Epoch 15/20\n",
            "49/49 [==============================] - 1s 21ms/step - loss: 1.7558e-04 - accuracy: 1.0000 - val_loss: 1.5572 - val_accuracy: 0.8501\n",
            "Epoch 16/20\n",
            "49/49 [==============================] - 1s 22ms/step - loss: 1.4321e-04 - accuracy: 1.0000 - val_loss: 1.5983 - val_accuracy: 0.8486\n",
            "Epoch 17/20\n",
            "49/49 [==============================] - 1s 22ms/step - loss: 0.0069 - accuracy: 0.9978 - val_loss: 1.5972 - val_accuracy: 0.8505\n",
            "Epoch 18/20\n",
            "49/49 [==============================] - 1s 21ms/step - loss: 1.3939e-04 - accuracy: 1.0000 - val_loss: 1.6244 - val_accuracy: 0.8510\n",
            "Epoch 19/20\n",
            "49/49 [==============================] - 1s 21ms/step - loss: 0.0085 - accuracy: 0.9978 - val_loss: 1.6486 - val_accuracy: 0.8503\n",
            "Epoch 20/20\n",
            "49/49 [==============================] - 1s 21ms/step - loss: 1.4092e-04 - accuracy: 1.0000 - val_loss: 1.6585 - val_accuracy: 0.8498\n"
          ]
        }
      ]
    },
    {
      "cell_type": "markdown",
      "source": [
        "# Compare the validation and test accuracy of the different models."
      ],
      "metadata": {
        "id": "IFJavMbW4cz8"
      }
    },
    {
      "cell_type": "code",
      "source": [
        "import matplotlib.pyplot as plt\n",
        "\n",
        "# Plot the validation accuracy for each model\n",
        "acc_1 = history_1.history['val_accuracy']\n",
        "acc_3 = history_3.history['val_accuracy']\n",
        "epochs = range(1, len(acc_1) + 1)\n",
        "\n",
        "plt.plot(epochs, acc_1, 'b', label='One hidden layer')\n",
        "plt.plot(epochs, acc_3, 'r', label='Three hidden layers')\n",
        "plt.title('Validation accuracy')\n",
        "plt.xlabel('Epochs')\n",
        "plt.ylabel('Accuracy')\n",
        "plt.legend()\n",
        "\n",
        "plt.show()"
      ],
      "metadata": {
        "colab": {
          "base_uri": "https://localhost:8080/",
          "height": 295
        },
        "id": "llm_sGTo6-tT",
        "outputId": "7fbb4878-50a7-41a8-c17d-82087e4cf578"
      },
      "execution_count": 21,
      "outputs": [
        {
          "output_type": "display_data",
          "data": {
            "text/plain": [
              "<Figure size 432x288 with 1 Axes>"
            ],
            "image/png": "[encoded data removed]"
          },
          "metadata": {
            "needs_background": "light"
          }
        }
      ]
    },
    {
      "cell_type": "markdown",
      "source": [
        "Question 1. From the plot, we can see the model with one hidden layer achieves a validation accuracy of around 88% while the model with three hidden layers achieves 87%. Therefore, the model with one hidden layer performs slightly better than the model with three hidden layers."
      ],
      "metadata": {
        "id": "WqQqCZit7iOt"
      }
    },
    {
      "cell_type": "markdown",
      "source": [
        "# Question 2\n",
        "## Use a layer with 32 units."
      ],
      "metadata": {
        "id": "EA9TglXO8JmE"
      }
    },
    {
      "cell_type": "code",
      "source": [
        "model.add(layers.Dense(32, activation='relu'))"
      ],
      "metadata": {
        "id": "t6SzEXjG9B21"
      },
      "execution_count": null,
      "outputs": []
    },
    {
      "cell_type": "markdown",
      "source": [
        "## Use a layer with 64 units."
      ],
      "metadata": {
        "id": "a8s6bI8O9WBr"
      }
    },
    {
      "cell_type": "code",
      "source": [
        "model.add(layers.Dense(64, activation='relu'))"
      ],
      "metadata": {
        "id": "iThOwvDP9FGh"
      },
      "execution_count": 23,
      "outputs": []
    },
    {
      "cell_type": "markdown",
      "source": [
        "# Question 3\n",
        "## Load the IMDB dataset."
      ],
      "metadata": {
        "id": "SQgsu1nN-Ikl"
      }
    },
    {
      "cell_type": "code",
      "source": [
        "from tensorflow.keras.datasets import imdb\n",
        "from tensorflow.keras import models\n",
        "from tensorflow.keras import layers\n",
        "import numpy as np\n",
        "(train_data, train_labels), (test_data, test_labels) = imdb.load_data(num_words=10000)\n",
        "\n"
      ],
      "metadata": {
        "id": "YYe8UW7w-NDw"
      },
      "execution_count": 25,
      "outputs": []
    },
    {
      "cell_type": "markdown",
      "source": [
        "# Prepare the data\n"
      ],
      "metadata": {
        "id": "rciIe4DO-pL9"
      }
    },
    {
      "cell_type": "code",
      "source": [
        "def vectorize_sequences(sequences, dimension=10000):\n",
        "    results = np.zeros((len(sequences), dimension))\n",
        "    for i, sequence in enumerate(sequences):\n",
        "        results[i, sequence] = 1.\n",
        "    return results\n",
        "\n",
        "x_train = vectorize_sequences(train_data)\n",
        "x_test = vectorize_sequences(test_data)\n",
        "y_train = np.asarray(train_labels).astype('float32')\n",
        "y_test = np.asarray(test_labels).astype('float32')\n",
        "\n"
      ],
      "metadata": {
        "id": "GGc0LO1O-tnT"
      },
      "execution_count": 26,
      "outputs": []
    },
    {
      "cell_type": "markdown",
      "source": [
        "# Define the model.\n"
      ],
      "metadata": {
        "id": "onk0scAn-whn"
      }
    },
    {
      "cell_type": "code",
      "source": [
        "model = models.Sequential()\n",
        "model.add(layers.Dense(16, activation='relu', input_shape=(10000,)))\n",
        "model.add(layers.Dense(16, activation='relu'))\n",
        "model.add(layers.Dense(1, activation='sigmoid'))\n",
        "\n"
      ],
      "metadata": {
        "id": "3Gmwoq8r-ybO"
      },
      "execution_count": 27,
      "outputs": []
    },
    {
      "cell_type": "markdown",
      "source": [
        "# Compile the model with MSE loss function\n"
      ],
      "metadata": {
        "id": "ThbcwI9o-11H"
      }
    },
    {
      "cell_type": "code",
      "source": [
        "model.compile(optimizer='rmsprop',\n",
        "              loss='mse',\n",
        "              metrics=['accuracy'])\n",
        "\n"
      ],
      "metadata": {
        "id": "WJdJs6Gu-33b"
      },
      "execution_count": 28,
      "outputs": []
    },
    {
      "cell_type": "markdown",
      "source": [
        "# Train the model\n"
      ],
      "metadata": {
        "id": "MEqFp7MV-6GU"
      }
    },
    {
      "cell_type": "code",
      "source": [
        "history = model.fit(x_train,\n",
        "                    y_train,\n",
        "                    epochs=20,\n",
        "                    batch_size=512,\n",
        "                    validation_data=(x_test, y_test))"
      ],
      "metadata": {
        "colab": {
          "base_uri": "https://localhost:8080/"
        },
        "id": "SCl9s6JW-701",
        "outputId": "8c7a15c5-33b8-4d06-b4c4-7c9d96dccf45"
      },
      "execution_count": 29,
      "outputs": [
        {
          "output_type": "stream",
          "name": "stdout",
          "text": [
            "Epoch 1/20\n",
            "49/49 [==============================] - 3s 39ms/step - loss: 0.1572 - accuracy: 0.8074 - val_loss: 0.1112 - val_accuracy: 0.8698\n",
            "Epoch 2/20\n",
            "49/49 [==============================] - 1s 23ms/step - loss: 0.0879 - accuracy: 0.8958 - val_loss: 0.0892 - val_accuracy: 0.8868\n",
            "Epoch 3/20\n",
            "49/49 [==============================] - 1s 28ms/step - loss: 0.0693 - accuracy: 0.9154 - val_loss: 0.0890 - val_accuracy: 0.8801\n",
            "Epoch 4/20\n",
            "49/49 [==============================] - 1s 22ms/step - loss: 0.0588 - accuracy: 0.9293 - val_loss: 0.0836 - val_accuracy: 0.8877\n",
            "Epoch 5/20\n",
            "49/49 [==============================] - 1s 22ms/step - loss: 0.0522 - accuracy: 0.9383 - val_loss: 0.0858 - val_accuracy: 0.8843\n",
            "Epoch 6/20\n",
            "49/49 [==============================] - 1s 30ms/step - loss: 0.0463 - accuracy: 0.9469 - val_loss: 0.0894 - val_accuracy: 0.8796\n",
            "Epoch 7/20\n",
            "49/49 [==============================] - 1s 24ms/step - loss: 0.0430 - accuracy: 0.9497 - val_loss: 0.0903 - val_accuracy: 0.8789\n",
            "Epoch 8/20\n",
            "49/49 [==============================] - 1s 22ms/step - loss: 0.0396 - accuracy: 0.9546 - val_loss: 0.0901 - val_accuracy: 0.8786\n",
            "Epoch 9/20\n",
            "49/49 [==============================] - 1s 21ms/step - loss: 0.0359 - accuracy: 0.9600 - val_loss: 0.0935 - val_accuracy: 0.8752\n",
            "Epoch 10/20\n",
            "49/49 [==============================] - 1s 28ms/step - loss: 0.0335 - accuracy: 0.9638 - val_loss: 0.0934 - val_accuracy: 0.8759\n",
            "Epoch 11/20\n",
            "49/49 [==============================] - 1s 21ms/step - loss: 0.0313 - accuracy: 0.9664 - val_loss: 0.0949 - val_accuracy: 0.8755\n",
            "Epoch 12/20\n",
            "49/49 [==============================] - 1s 21ms/step - loss: 0.0281 - accuracy: 0.9711 - val_loss: 0.0969 - val_accuracy: 0.8737\n",
            "Epoch 13/20\n",
            "49/49 [==============================] - 1s 21ms/step - loss: 0.0267 - accuracy: 0.9719 - val_loss: 0.1049 - val_accuracy: 0.8642\n",
            "Epoch 14/20\n",
            "49/49 [==============================] - 1s 28ms/step - loss: 0.0254 - accuracy: 0.9740 - val_loss: 0.1002 - val_accuracy: 0.8704\n",
            "Epoch 15/20\n",
            "49/49 [==============================] - 1s 22ms/step - loss: 0.0234 - accuracy: 0.9753 - val_loss: 0.1027 - val_accuracy: 0.8679\n",
            "Epoch 16/20\n",
            "49/49 [==============================] - 1s 30ms/step - loss: 0.0214 - accuracy: 0.9794 - val_loss: 0.1030 - val_accuracy: 0.8693\n",
            "Epoch 17/20\n",
            "49/49 [==============================] - 1s 21ms/step - loss: 0.0216 - accuracy: 0.9782 - val_loss: 0.1050 - val_accuracy: 0.8681\n",
            "Epoch 18/20\n",
            "49/49 [==============================] - 1s 22ms/step - loss: 0.0189 - accuracy: 0.9818 - val_loss: 0.1057 - val_accuracy: 0.8677\n",
            "Epoch 19/20\n",
            "49/49 [==============================] - 1s 21ms/step - loss: 0.0184 - accuracy: 0.9821 - val_loss: 0.1064 - val_accuracy: 0.8675\n",
            "Epoch 20/20\n",
            "49/49 [==============================] - 1s 21ms/step - loss: 0.0171 - accuracy: 0.9835 - val_loss: 0.1081 - val_accuracy: 0.8655\n"
          ]
        }
      ]
    },
    {
      "cell_type": "markdown",
      "source": [
        "# Question 3   By using the MSE loss function, the model will try to minimize the mean squared error between the predicted and actual values of the target variable. This may be more appropriate than binary_crossentropy if you're working with regression problems where the target variable is continuous rather than binary."
      ],
      "metadata": {
        "id": "PwNl3I-z_rAo"
      }
    },
    {
      "cell_type": "markdown",
      "source": [
        "# Question 4"
      ],
      "metadata": {
        "id": "l-CLajcyAa84"
      }
    }
  ]
}